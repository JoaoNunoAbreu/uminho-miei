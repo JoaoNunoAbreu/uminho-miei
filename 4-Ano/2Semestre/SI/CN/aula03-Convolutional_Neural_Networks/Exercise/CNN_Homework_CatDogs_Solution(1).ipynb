{
 "cells": [
  {
   "cell_type": "markdown",
   "metadata": {},
   "source": [
    "# Convolutional Neural Network\n",
    "\n",
    "### Tutorial: https://pythonprogramming.net/convolutional-neural-network-kats-vs-dogs-machine-learning-tutorial/\n",
    "### Part 1 - Building the CNN\n",
    "\n",
    "#### Importing the Tensorflow libraries and packages"
   ]
  },
  {
   "cell_type": "code",
   "execution_count": 1,
   "metadata": {},
   "outputs": [],
   "source": [
    "# Load the TensorBoard notebook extension\n",
    "%load_ext tensorboard\n",
    "from tensorflow.keras.models import Sequential\n",
    "from tensorflow.keras.layers import Conv2D, MaxPooling2D, Flatten, Dense"
   ]
  },
  {
   "cell_type": "markdown",
   "metadata": {},
   "source": [
    "#### Build the CNN Model\n",
    "\n",
    "##### Architecture:\n",
    "- Step 1 - Convolution2D + MaxPooling layer\n",
    "    - Arguments: input_shape (64,64,3), 32 filters, 3x3 kernel, relu activation\n",
    "- Step 2.1-2.n - Adding new \"n\" Convolution2D + MaxPooling layer (more layers = more parameters = more complexity - care overfit)\n",
    "- Step 3 - Flattening\n",
    "- Step 4.1 - 4.n - Dense Layer\n",
    "    - Arguments: 128 units, relu activation\n",
    "- Step 5 - Output Layer (Dense Layer with units = 1, sigmoid activation)"
   ]
  },
  {
   "cell_type": "code",
   "execution_count": 2,
   "metadata": {},
   "outputs": [],
   "source": [
    "classifier = Sequential()\n",
    "\n",
    "# Step 1 - Convolution + MaxPooling layer\n",
    "# Arguments: 32 filters, 3x3 kernel, relu activation\n",
    "classifier.add(Conv2D(32, (3, 3), input_shape = (64, 64, 3), activation = 'relu'))\n",
    "classifier.add(MaxPooling2D(pool_size = (2, 2)))\n",
    "\n",
    "# Step 2 - Adding a second convolutional layer\n",
    "classifier.add(Conv2D(32, (3, 3), activation = 'relu'))\n",
    "classifier.add(MaxPooling2D(pool_size = (2, 2)))\n",
    "\n",
    "# Step 3 - Flattening\n",
    "classifier.add(Flatten())\n",
    "\n",
    "# Step 4 - Full connection\n",
    "classifier.add(Dense(units = 128, activation = 'relu'))\n",
    "classifier.add(Dense(units = 1, activation = 'sigmoid'))"
   ]
  },
  {
   "cell_type": "markdown",
   "metadata": {},
   "source": [
    "#### Compiling the CNN\n",
    "- optimizer = 'adam'\n",
    "- loss = 'binary_crossentropy' - binary problem (either cat or dog)\n",
    "- metrics = ['accuracy', ...]"
   ]
  },
  {
   "cell_type": "code",
   "execution_count": 3,
   "metadata": {},
   "outputs": [],
   "source": [
    "classifier.compile(optimizer = 'adam', loss = 'binary_crossentropy', metrics = ['accuracy'])"
   ]
  },
  {
   "cell_type": "markdown",
   "metadata": {},
   "source": [
    "### Part 2 - Fitting the CNN to the images\n",
    "#### For Image Augmentation, verify https://keras.io/preprocessing/image/ - ImageDataGenerator class\n",
    "#### Alternative: https://www.tensorflow.org/api_docs/python/tf/keras/preprocessing/image/ImageDataGenerator\n",
    "#### Or do it manually as in previous exercises\n",
    "\n",
    "- Step 1 - ImageDataGenerator class for data train and test data generation\n",
    "    - Arguments: Rescale, shear_range, zoom_range, horizontal_flip\n",
    "    - For test dataset, only rescale is required"
   ]
  },
  {
   "cell_type": "code",
   "execution_count": 4,
   "metadata": {},
   "outputs": [],
   "source": [
    "from tensorflow.keras.preprocessing.image import ImageDataGenerator\n",
    "\n",
    "train_datagen = ImageDataGenerator(rescale = 1./255,\n",
    "                                   shear_range = 0.2,\n",
    "                                   zoom_range = 0.2,\n",
    "                                   horizontal_flip = True)\n",
    "\n",
    "test_datagen = ImageDataGenerator(rescale = 1./255)"
   ]
  },
  {
   "cell_type": "markdown",
   "metadata": {},
   "source": [
    "- Step 2 - ImageDataGenerator class - use the \"flow_from_directory\" function to read the input dataset and prepare for augmentation\n",
    "    - Arguments: directory, target_size, batch_size, class_mode='binary'"
   ]
  },
  {
   "cell_type": "code",
   "execution_count": 5,
   "metadata": {},
   "outputs": [
    {
     "name": "stdout",
     "output_type": "stream",
     "text": [
      "Found 8000 images belonging to 2 classes.\n",
      "Found 2000 images belonging to 2 classes.\n"
     ]
    }
   ],
   "source": [
    "training_set = train_datagen.flow_from_directory('dataset/training_set',\n",
    "                                                 target_size = (64, 64),\n",
    "                                                 batch_size = 32,\n",
    "                                                 class_mode = 'binary')\n",
    "\n",
    "test_set = test_datagen.flow_from_directory('dataset/test_set',\n",
    "                                            target_size = (64, 64),\n",
    "                                            batch_size = 32,\n",
    "                                            class_mode = 'binary')"
   ]
  },
  {
   "cell_type": "markdown",
   "metadata": {},
   "source": [
    "- Step 3 - fit the model using \"fit_generator\" function\n",
    "    - Arguments: training_dataset, steps_per_epoch, epochs, validation_data, validation_steps\n",
    "    \n",
    "- NOTE: install pillow package using \"pip install pillow\" or \"conda install pillow\""
   ]
  },
  {
   "cell_type": "code",
   "execution_count": null,
   "metadata": {},
   "outputs": [
    {
     "name": "stderr",
     "output_type": "stream",
     "text": [
      "C:\\Users\\filas\\Anaconda3\\lib\\site-packages\\tensorflow\\python\\keras\\engine\\training.py:1844: UserWarning: `Model.fit_generator` is deprecated and will be removed in a future version. Please use `Model.fit`, which supports generators.\n",
      "  warnings.warn('`Model.fit_generator` is deprecated and '\n"
     ]
    },
    {
     "name": "stdout",
     "output_type": "stream",
     "text": [
      "Epoch 1/25\n",
      "250/250 [==============================] - 95s 359ms/step - loss: 0.6911 - accuracy: 0.5521 - val_loss: 0.5938 - val_accuracy: 0.7102\n",
      "Epoch 2/25\n",
      "250/250 [==============================] - 10s 38ms/step - loss: 0.6035 - accuracy: 0.6806 - val_loss: 0.5873 - val_accuracy: 0.6915\n",
      "Epoch 3/25\n",
      "250/250 [==============================] - 10s 40ms/step - loss: 0.5876 - accuracy: 0.6845 - val_loss: 0.5810 - val_accuracy: 0.7112\n",
      "Epoch 4/25\n",
      "250/250 [==============================] - 10s 39ms/step - loss: 0.5403 - accuracy: 0.7329 - val_loss: 0.5717 - val_accuracy: 0.7213\n",
      "Epoch 5/25\n",
      "250/250 [==============================] - 10s 39ms/step - loss: 0.5234 - accuracy: 0.7334 - val_loss: 0.5000 - val_accuracy: 0.7641\n",
      "Epoch 6/25\n",
      "250/250 [==============================] - 10s 39ms/step - loss: 0.4817 - accuracy: 0.7660 - val_loss: 0.4901 - val_accuracy: 0.7757\n",
      "Epoch 7/25\n",
      "250/250 [==============================] - 10s 38ms/step - loss: 0.4675 - accuracy: 0.7823 - val_loss: 0.4877 - val_accuracy: 0.7671\n",
      "Epoch 8/25\n",
      "250/250 [==============================] - 10s 38ms/step - loss: 0.4511 - accuracy: 0.7833 - val_loss: 0.4630 - val_accuracy: 0.7863\n",
      "Epoch 9/25\n",
      "250/250 [==============================] - 10s 38ms/step - loss: 0.4442 - accuracy: 0.7978 - val_loss: 0.4607 - val_accuracy: 0.7828\n",
      "Epoch 10/25\n",
      "250/250 [==============================] - 10s 38ms/step - loss: 0.4278 - accuracy: 0.7968 - val_loss: 0.4408 - val_accuracy: 0.8019\n",
      "Epoch 11/25\n",
      "250/250 [==============================] - 10s 38ms/step - loss: 0.4121 - accuracy: 0.8057 - val_loss: 0.4492 - val_accuracy: 0.8049\n",
      "Epoch 12/25\n",
      "250/250 [==============================] - 10s 38ms/step - loss: 0.3932 - accuracy: 0.8189 - val_loss: 0.4906 - val_accuracy: 0.7787\n",
      "Epoch 13/25\n",
      "250/250 [==============================] - 10s 38ms/step - loss: 0.3948 - accuracy: 0.8235 - val_loss: 0.4547 - val_accuracy: 0.7984\n",
      "Epoch 14/25\n",
      "248/250 [============================>.] - ETA: 0s - loss: 0.3903 - accuracy: 0.8210"
     ]
    }
   ],
   "source": [
    "from tensorflow.keras.callbacks import EarlyStopping, ModelCheckpoint, TensorBoard\n",
    "from datetime import datetime\n",
    "\n",
    "es = EarlyStopping(monitor='val_loss', patience=5)\n",
    "mc = ModelCheckpoint('best_model.h5', monitor='val_loss', mode='min', save_best_only=True)\n",
    "\n",
    "# Create a TensorBoard callback\n",
    "logs = \"logs/\" + datetime.now().strftime(\"%Y%m%d-%H%M%S\")\n",
    "tensorboard = TensorBoard(log_dir = logs,\n",
    "                          histogram_freq = 1,\n",
    "                          profile_batch = '500,520')\n",
    "\n",
    "classifier.fit_generator(training_set,\n",
    "                         steps_per_epoch = 250, # 8000 cases / 32 cases per batch (batch_size) = 250\n",
    "                         epochs = 25, # play with number of epochs and benchmark results\n",
    "                         callbacks = [es, mc, tensorboard],\n",
    "                         validation_data = test_set,\n",
    "                         validation_steps = 62, # 2000 cases / 32 cases per batch (batch_size) = 62.5\n",
    "                         workers = 4) "
   ]
  },
  {
   "cell_type": "markdown",
   "metadata": {},
   "source": [
    "### Part 3 - Making new model predictions for human validation\n",
    "#### Using the trained model, use images located in dataset/single_prediction folder to verify it's performance"
   ]
  },
  {
   "cell_type": "code",
   "execution_count": null,
   "metadata": {},
   "outputs": [],
   "source": [
    "import numpy as np\n",
    "from keras.preprocessing import image\n",
    "\n",
    "test_image = image.load_img('dataset/single_prediction/cat_or_dog_1.jpg', target_size = (64, 64))\n",
    "test_image = image.img_to_array(test_image)\n",
    "test_image = np.expand_dims(test_image, axis = 0)\n",
    "result = classifier.predict(test_image)\n",
    "training_set.class_indices\n",
    "if result[0][0] == 1:\n",
    "    prediction = 'dog'\n",
    "else:\n",
    "    prediction = 'cat'\n",
    "    \n",
    "print(prediction)"
   ]
  }
 ],
 "metadata": {
  "kernelspec": {
   "display_name": "Python 3",
   "language": "python",
   "name": "python3"
  },
  "language_info": {
   "codemirror_mode": {
    "name": "ipython",
    "version": 3
   },
   "file_extension": ".py",
   "mimetype": "text/x-python",
   "name": "python",
   "nbconvert_exporter": "python",
   "pygments_lexer": "ipython3",
   "version": "3.7.4"
  }
 },
 "nbformat": 4,
 "nbformat_minor": 2
}
