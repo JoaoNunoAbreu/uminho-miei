{
 "cells": [
  {
   "cell_type": "markdown",
   "metadata": {},
   "source": [
    "# Convolutional Neural Network\n",
    "\n",
    "### Tutorial: https://pythonprogramming.net/convolutional-neural-network-kats-vs-dogs-machine-learning-tutorial/\n",
    "### Part 1 - Building the CNN\n",
    "\n",
    "#### Importing the Tensorflow libraries and packages"
   ]
  },
  {
   "cell_type": "code",
   "execution_count": null,
   "metadata": {},
   "outputs": [],
   "source": []
  },
  {
   "cell_type": "markdown",
   "metadata": {},
   "source": [
    "#### Build the CNN Model\n",
    "\n",
    "##### Architecture:\n",
    "- Step 1 - Convolution2D + MaxPooling layer\n",
    "    - Arguments: input_shape (64,64,3), 32 filters, 3x3 kernel, relu activation\n",
    "- Step 2.1-2.n - Adding new \"n\" Convolution2D + MaxPooling layer (more layers = more parameters = more complexity - care overfit)\n",
    "- Step 3 - Flattening\n",
    "- Step 4.1 - 4.n - Dense Layer\n",
    "    - Arguments: 128 units, relu activation\n",
    "- Step 5 - Output Layer (Dense Layer with units = 1, sigmoid activation)"
   ]
  },
  {
   "cell_type": "code",
   "execution_count": null,
   "metadata": {},
   "outputs": [],
   "source": []
  },
  {
   "cell_type": "markdown",
   "metadata": {},
   "source": [
    "#### Compiling the CNN\n",
    "- optimizer = 'adam'\n",
    "- loss = 'binary_crossentropy' - binary problem (either cat or dog)\n",
    "- metrics = ['accuracy', ...]"
   ]
  },
  {
   "cell_type": "code",
   "execution_count": null,
   "metadata": {},
   "outputs": [],
   "source": []
  },
  {
   "cell_type": "markdown",
   "metadata": {},
   "source": [
    "### Part 2 - Fitting the CNN to the images\n",
    "#### For Image Augmentation, verify https://keras.io/preprocessing/image/ - ImageDataGenerator class\n",
    "#### Alternative: https://www.tensorflow.org/api_docs/python/tf/keras/preprocessing/image/ImageDataGenerator\n",
    "#### Or do it manually as in previous exercises\n",
    "\n",
    "- Step 1 - ImageDataGenerator class for data train and test data generation\n",
    "    - Arguments: Rescale, shear_range, zoom_range, horizontal_flip\n",
    "    - For test dataset, only rescale is required"
   ]
  },
  {
   "cell_type": "code",
   "execution_count": null,
   "metadata": {},
   "outputs": [],
   "source": []
  },
  {
   "cell_type": "markdown",
   "metadata": {},
   "source": [
    "- Step 2 - ImageDataGenerator class - use the \"flow_from_directory\" function to read the input dataset and prepare for augmentation\n",
    "    - Arguments: directory, target_size, batch_size, class_mode='binary'"
   ]
  },
  {
   "cell_type": "code",
   "execution_count": null,
   "metadata": {},
   "outputs": [],
   "source": []
  },
  {
   "cell_type": "markdown",
   "metadata": {},
   "source": [
    "- Step 3 - fit the model using \"fit_generator\" function\n",
    "    - Arguments: training_dataset, steps_per_epoch, epochs, validation_data, validation_steps\n",
    "    \n",
    "- NOTE: install pillow package using \"pip install pillow\" or \"conda install pillow\""
   ]
  },
  {
   "cell_type": "code",
   "execution_count": null,
   "metadata": {},
   "outputs": [],
   "source": []
  },
  {
   "cell_type": "markdown",
   "metadata": {},
   "source": [
    "### Part 3 - Making new model predictions for human validation\n",
    "#### Using the trained model, use images located in dataset/single_prediction folder to verify it's performance"
   ]
  },
  {
   "cell_type": "code",
   "execution_count": null,
   "metadata": {},
   "outputs": [],
   "source": []
  }
 ],
 "metadata": {
  "kernelspec": {
   "display_name": "Python 3",
   "language": "python",
   "name": "python3"
  },
  "language_info": {
   "codemirror_mode": {
    "name": "ipython",
    "version": 3
   },
   "file_extension": ".py",
   "mimetype": "text/x-python",
   "name": "python",
   "nbconvert_exporter": "python",
   "pygments_lexer": "ipython3",
   "version": "3.6.13"
  }
 },
 "nbformat": 4,
 "nbformat_minor": 2
}
