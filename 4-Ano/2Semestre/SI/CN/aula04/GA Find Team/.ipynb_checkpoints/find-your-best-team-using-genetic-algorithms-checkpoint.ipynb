{
 "cells": [
  {
   "cell_type": "markdown",
   "metadata": {
    "papermill": {
     "duration": 0.022434,
     "end_time": "2020-11-28T00:36:01.009745",
     "exception": false,
     "start_time": "2020-11-28T00:36:00.987311",
     "status": "completed"
    },
    "tags": []
   },
   "source": [
    "# Find your best team using Genetic Algorithms\n",
    "\n",
    "<center><img src=\"https://img.fifa.com/image/upload/t_l1/hmkwxxkgr5j8rqa8uhmw.jpg\"></center>\n"
   ]
  },
  {
   "cell_type": "markdown",
   "metadata": {
    "papermill": {
     "duration": 0.022052,
     "end_time": "2020-11-28T00:36:01.053310",
     "exception": false,
     "start_time": "2020-11-28T00:36:01.031258",
     "status": "completed"
    },
    "tags": []
   },
   "source": [
    "### Everyone of us played FIFA and knows how it hard sometimes to select your best team. \n",
    "\n",
    "### In this code sample it will be presented a basic approach for genetic algorithm to select a team using some constraints like total amount of money and average age of players."
   ]
  },
  {
   "cell_type": "code",
   "execution_count": 1,
   "metadata": {
    "_cell_guid": "b1076dfc-b9ad-4769-8c92-a6c4dae69d19",
    "_kg_hide-input": true,
    "_kg_hide-output": true,
    "_uuid": "8f2839f25d086af736a60e9eeb907d3b93b6e0e5",
    "execution": {
     "iopub.execute_input": "2020-11-28T00:36:01.101881Z",
     "iopub.status.busy": "2020-11-28T00:36:01.100796Z",
     "iopub.status.idle": "2020-11-28T00:36:01.104284Z",
     "shell.execute_reply": "2020-11-28T00:36:01.103673Z"
    },
    "papermill": {
     "duration": 0.029974,
     "end_time": "2020-11-28T00:36:01.104412",
     "exception": false,
     "start_time": "2020-11-28T00:36:01.074438",
     "status": "completed"
    },
    "tags": []
   },
   "outputs": [],
   "source": [
    "# Import required packages\n",
    "import numpy as np\n",
    "import pandas as pd\n",
    "import random\n",
    "import matplotlib.pyplot as plt"
   ]
  },
  {
   "cell_type": "code",
   "execution_count": 19,
   "metadata": {
    "_cell_guid": "79c7e3d0-c299-4dcb-8224-4455121ee9b0",
    "_uuid": "d629ff2d2480ee46fbb7e2d37f6b5fab8052498a",
    "execution": {
     "iopub.execute_input": "2020-11-28T00:36:01.156663Z",
     "iopub.status.busy": "2020-11-28T00:36:01.155744Z",
     "iopub.status.idle": "2020-11-28T00:36:01.575628Z",
     "shell.execute_reply": "2020-11-28T00:36:01.576203Z"
    },
    "papermill": {
     "duration": 0.450347,
     "end_time": "2020-11-28T00:36:01.576352",
     "exception": false,
     "start_time": "2020-11-28T00:36:01.126005",
     "status": "completed"
    },
    "tags": []
   },
   "outputs": [
    {
     "data": {
      "text/html": [
       "<div>\n",
       "<style scoped>\n",
       "    .dataframe tbody tr th:only-of-type {\n",
       "        vertical-align: middle;\n",
       "    }\n",
       "\n",
       "    .dataframe tbody tr th {\n",
       "        vertical-align: top;\n",
       "    }\n",
       "\n",
       "    .dataframe thead th {\n",
       "        text-align: right;\n",
       "    }\n",
       "</style>\n",
       "<table border=\"1\" class=\"dataframe\">\n",
       "  <thead>\n",
       "    <tr style=\"text-align: right;\">\n",
       "      <th></th>\n",
       "      <th>Unnamed: 0</th>\n",
       "      <th>ID</th>\n",
       "      <th>Name</th>\n",
       "      <th>Age</th>\n",
       "      <th>Photo</th>\n",
       "      <th>Nationality</th>\n",
       "      <th>Flag</th>\n",
       "      <th>Overall</th>\n",
       "      <th>Potential</th>\n",
       "      <th>Club</th>\n",
       "      <th>...</th>\n",
       "      <th>Composure</th>\n",
       "      <th>Marking</th>\n",
       "      <th>StandingTackle</th>\n",
       "      <th>SlidingTackle</th>\n",
       "      <th>GKDiving</th>\n",
       "      <th>GKHandling</th>\n",
       "      <th>GKKicking</th>\n",
       "      <th>GKPositioning</th>\n",
       "      <th>GKReflexes</th>\n",
       "      <th>Release Clause</th>\n",
       "    </tr>\n",
       "  </thead>\n",
       "  <tbody>\n",
       "    <tr>\n",
       "      <td>0</td>\n",
       "      <td>0</td>\n",
       "      <td>158023</td>\n",
       "      <td>L. Messi</td>\n",
       "      <td>31</td>\n",
       "      <td>https://cdn.sofifa.org/players/4/19/158023.png</td>\n",
       "      <td>Argentina</td>\n",
       "      <td>https://cdn.sofifa.org/flags/52.png</td>\n",
       "      <td>94</td>\n",
       "      <td>94</td>\n",
       "      <td>FC Barcelona</td>\n",
       "      <td>...</td>\n",
       "      <td>96.0</td>\n",
       "      <td>33.0</td>\n",
       "      <td>28.0</td>\n",
       "      <td>26.0</td>\n",
       "      <td>6.0</td>\n",
       "      <td>11.0</td>\n",
       "      <td>15.0</td>\n",
       "      <td>14.0</td>\n",
       "      <td>8.0</td>\n",
       "      <td>€226.5M</td>\n",
       "    </tr>\n",
       "    <tr>\n",
       "      <td>1</td>\n",
       "      <td>1</td>\n",
       "      <td>20801</td>\n",
       "      <td>Cristiano Ronaldo</td>\n",
       "      <td>33</td>\n",
       "      <td>https://cdn.sofifa.org/players/4/19/20801.png</td>\n",
       "      <td>Portugal</td>\n",
       "      <td>https://cdn.sofifa.org/flags/38.png</td>\n",
       "      <td>94</td>\n",
       "      <td>94</td>\n",
       "      <td>Juventus</td>\n",
       "      <td>...</td>\n",
       "      <td>95.0</td>\n",
       "      <td>28.0</td>\n",
       "      <td>31.0</td>\n",
       "      <td>23.0</td>\n",
       "      <td>7.0</td>\n",
       "      <td>11.0</td>\n",
       "      <td>15.0</td>\n",
       "      <td>14.0</td>\n",
       "      <td>11.0</td>\n",
       "      <td>€127.1M</td>\n",
       "    </tr>\n",
       "    <tr>\n",
       "      <td>2</td>\n",
       "      <td>2</td>\n",
       "      <td>190871</td>\n",
       "      <td>Neymar Jr</td>\n",
       "      <td>26</td>\n",
       "      <td>https://cdn.sofifa.org/players/4/19/190871.png</td>\n",
       "      <td>Brazil</td>\n",
       "      <td>https://cdn.sofifa.org/flags/54.png</td>\n",
       "      <td>92</td>\n",
       "      <td>93</td>\n",
       "      <td>Paris Saint-Germain</td>\n",
       "      <td>...</td>\n",
       "      <td>94.0</td>\n",
       "      <td>27.0</td>\n",
       "      <td>24.0</td>\n",
       "      <td>33.0</td>\n",
       "      <td>9.0</td>\n",
       "      <td>9.0</td>\n",
       "      <td>15.0</td>\n",
       "      <td>15.0</td>\n",
       "      <td>11.0</td>\n",
       "      <td>€228.1M</td>\n",
       "    </tr>\n",
       "    <tr>\n",
       "      <td>3</td>\n",
       "      <td>3</td>\n",
       "      <td>193080</td>\n",
       "      <td>De Gea</td>\n",
       "      <td>27</td>\n",
       "      <td>https://cdn.sofifa.org/players/4/19/193080.png</td>\n",
       "      <td>Spain</td>\n",
       "      <td>https://cdn.sofifa.org/flags/45.png</td>\n",
       "      <td>91</td>\n",
       "      <td>93</td>\n",
       "      <td>Manchester United</td>\n",
       "      <td>...</td>\n",
       "      <td>68.0</td>\n",
       "      <td>15.0</td>\n",
       "      <td>21.0</td>\n",
       "      <td>13.0</td>\n",
       "      <td>90.0</td>\n",
       "      <td>85.0</td>\n",
       "      <td>87.0</td>\n",
       "      <td>88.0</td>\n",
       "      <td>94.0</td>\n",
       "      <td>€138.6M</td>\n",
       "    </tr>\n",
       "    <tr>\n",
       "      <td>4</td>\n",
       "      <td>4</td>\n",
       "      <td>192985</td>\n",
       "      <td>K. De Bruyne</td>\n",
       "      <td>27</td>\n",
       "      <td>https://cdn.sofifa.org/players/4/19/192985.png</td>\n",
       "      <td>Belgium</td>\n",
       "      <td>https://cdn.sofifa.org/flags/7.png</td>\n",
       "      <td>91</td>\n",
       "      <td>92</td>\n",
       "      <td>Manchester City</td>\n",
       "      <td>...</td>\n",
       "      <td>88.0</td>\n",
       "      <td>68.0</td>\n",
       "      <td>58.0</td>\n",
       "      <td>51.0</td>\n",
       "      <td>15.0</td>\n",
       "      <td>13.0</td>\n",
       "      <td>5.0</td>\n",
       "      <td>10.0</td>\n",
       "      <td>13.0</td>\n",
       "      <td>€196.4M</td>\n",
       "    </tr>\n",
       "  </tbody>\n",
       "</table>\n",
       "<p>5 rows × 89 columns</p>\n",
       "</div>"
      ],
      "text/plain": [
       "   Unnamed: 0      ID               Name  Age  \\\n",
       "0           0  158023           L. Messi   31   \n",
       "1           1   20801  Cristiano Ronaldo   33   \n",
       "2           2  190871          Neymar Jr   26   \n",
       "3           3  193080             De Gea   27   \n",
       "4           4  192985       K. De Bruyne   27   \n",
       "\n",
       "                                            Photo Nationality  \\\n",
       "0  https://cdn.sofifa.org/players/4/19/158023.png   Argentina   \n",
       "1   https://cdn.sofifa.org/players/4/19/20801.png    Portugal   \n",
       "2  https://cdn.sofifa.org/players/4/19/190871.png      Brazil   \n",
       "3  https://cdn.sofifa.org/players/4/19/193080.png       Spain   \n",
       "4  https://cdn.sofifa.org/players/4/19/192985.png     Belgium   \n",
       "\n",
       "                                  Flag  Overall  Potential  \\\n",
       "0  https://cdn.sofifa.org/flags/52.png       94         94   \n",
       "1  https://cdn.sofifa.org/flags/38.png       94         94   \n",
       "2  https://cdn.sofifa.org/flags/54.png       92         93   \n",
       "3  https://cdn.sofifa.org/flags/45.png       91         93   \n",
       "4   https://cdn.sofifa.org/flags/7.png       91         92   \n",
       "\n",
       "                  Club  ... Composure Marking StandingTackle  SlidingTackle  \\\n",
       "0         FC Barcelona  ...      96.0    33.0           28.0           26.0   \n",
       "1             Juventus  ...      95.0    28.0           31.0           23.0   \n",
       "2  Paris Saint-Germain  ...      94.0    27.0           24.0           33.0   \n",
       "3    Manchester United  ...      68.0    15.0           21.0           13.0   \n",
       "4      Manchester City  ...      88.0    68.0           58.0           51.0   \n",
       "\n",
       "  GKDiving  GKHandling  GKKicking  GKPositioning GKReflexes Release Clause  \n",
       "0      6.0        11.0       15.0           14.0        8.0        €226.5M  \n",
       "1      7.0        11.0       15.0           14.0       11.0        €127.1M  \n",
       "2      9.0         9.0       15.0           15.0       11.0        €228.1M  \n",
       "3     90.0        85.0       87.0           88.0       94.0        €138.6M  \n",
       "4     15.0        13.0        5.0           10.0       13.0        €196.4M  \n",
       "\n",
       "[5 rows x 89 columns]"
      ]
     },
     "execution_count": 19,
     "metadata": {},
     "output_type": "execute_result"
    }
   ],
   "source": [
    "# Read CSV Dataset\n",
    "df = pd.read_csv('./input/data.csv')\n",
    "df.head()"
   ]
  },
  {
   "cell_type": "markdown",
   "metadata": {
    "papermill": {
     "duration": 0.024139,
     "end_time": "2020-11-28T00:36:01.623304",
     "exception": false,
     "start_time": "2020-11-28T00:36:01.599165",
     "status": "completed"
    },
    "tags": []
   },
   "source": [
    "Select and prepare columns that we will use."
   ]
  },
  {
   "cell_type": "code",
   "execution_count": 20,
   "metadata": {
    "execution": {
     "iopub.execute_input": "2020-11-28T00:36:01.686713Z",
     "iopub.status.busy": "2020-11-28T00:36:01.680664Z",
     "iopub.status.idle": "2020-11-28T00:36:01.951020Z",
     "shell.execute_reply": "2020-11-28T00:36:01.950259Z"
    },
    "papermill": {
     "duration": 0.305386,
     "end_time": "2020-11-28T00:36:01.951151",
     "exception": false,
     "start_time": "2020-11-28T00:36:01.645765",
     "status": "completed"
    },
    "tags": []
   },
   "outputs": [
    {
     "data": {
      "text/html": [
       "<div>\n",
       "<style scoped>\n",
       "    .dataframe tbody tr th:only-of-type {\n",
       "        vertical-align: middle;\n",
       "    }\n",
       "\n",
       "    .dataframe tbody tr th {\n",
       "        vertical-align: top;\n",
       "    }\n",
       "\n",
       "    .dataframe thead th {\n",
       "        text-align: right;\n",
       "    }\n",
       "</style>\n",
       "<table border=\"1\" class=\"dataframe\">\n",
       "  <thead>\n",
       "    <tr style=\"text-align: right;\">\n",
       "      <th></th>\n",
       "      <th>Name</th>\n",
       "      <th>Age</th>\n",
       "      <th>Overall</th>\n",
       "      <th>Value</th>\n",
       "      <th>Position</th>\n",
       "    </tr>\n",
       "  </thead>\n",
       "  <tbody>\n",
       "    <tr>\n",
       "      <td>0</td>\n",
       "      <td>L. Messi</td>\n",
       "      <td>31</td>\n",
       "      <td>94</td>\n",
       "      <td>110500000.0</td>\n",
       "      <td>RF</td>\n",
       "    </tr>\n",
       "    <tr>\n",
       "      <td>1</td>\n",
       "      <td>Cristiano Ronaldo</td>\n",
       "      <td>33</td>\n",
       "      <td>94</td>\n",
       "      <td>77000000.0</td>\n",
       "      <td>ST</td>\n",
       "    </tr>\n",
       "    <tr>\n",
       "      <td>2</td>\n",
       "      <td>Neymar Jr</td>\n",
       "      <td>26</td>\n",
       "      <td>92</td>\n",
       "      <td>118500000.0</td>\n",
       "      <td>LW</td>\n",
       "    </tr>\n",
       "    <tr>\n",
       "      <td>3</td>\n",
       "      <td>De Gea</td>\n",
       "      <td>27</td>\n",
       "      <td>91</td>\n",
       "      <td>72000000.0</td>\n",
       "      <td>GK</td>\n",
       "    </tr>\n",
       "    <tr>\n",
       "      <td>4</td>\n",
       "      <td>K. De Bruyne</td>\n",
       "      <td>27</td>\n",
       "      <td>91</td>\n",
       "      <td>102000000.0</td>\n",
       "      <td>RCM</td>\n",
       "    </tr>\n",
       "  </tbody>\n",
       "</table>\n",
       "</div>"
      ],
      "text/plain": [
       "                Name  Age  Overall        Value Position\n",
       "0           L. Messi   31       94  110500000.0       RF\n",
       "1  Cristiano Ronaldo   33       94   77000000.0       ST\n",
       "2          Neymar Jr   26       92  118500000.0       LW\n",
       "3             De Gea   27       91   72000000.0       GK\n",
       "4       K. De Bruyne   27       91  102000000.0      RCM"
      ]
     },
     "execution_count": 20,
     "metadata": {},
     "output_type": "execute_result"
    }
   ],
   "source": [
    "df = df[['Name', 'Age', 'Overall', 'Value', 'Position']]\n",
    "df['Value'] = df['Value'].str.replace('€','').str.replace('M',' 1000000').str.replace('K',' 1000')\n",
    "df['Value'] = df['Value'].str.split(' ', expand=True)[0].astype(float) * df['Value'].str.split(' ', expand=True)[1].astype(float).fillna(0).astype(np.float32)\n",
    "df = df[df['Position'].notnull()]\n",
    "df = df[df['Value']>10000]\n",
    "\n",
    "df.head()"
   ]
  },
  {
   "cell_type": "markdown",
   "metadata": {
    "papermill": {
     "duration": 0.02287,
     "end_time": "2020-11-28T00:36:01.997297",
     "exception": false,
     "start_time": "2020-11-28T00:36:01.974427",
     "status": "completed"
    },
    "tags": []
   },
   "source": [
    "To simplify task we will use next positions: Center Forward, Left Forward, Right Forward, Center Half, Left Half, Right Half, Center Defender, Left Defender, Right Defender and Goalkeeper.\n",
    "\n",
    "We will use standard scheme for team (4-3-3: 4 defenders, 3 halfs and 3 forwards) and select 2 teams (main and second). In total we will have 22 players."
   ]
  },
  {
   "cell_type": "code",
   "execution_count": 21,
   "metadata": {
    "execution": {
     "iopub.execute_input": "2020-11-28T00:36:02.061034Z",
     "iopub.status.busy": "2020-11-28T00:36:02.059978Z",
     "iopub.status.idle": "2020-11-28T00:36:02.099169Z",
     "shell.execute_reply": "2020-11-28T00:36:02.098496Z"
    },
    "papermill": {
     "duration": 0.078621,
     "end_time": "2020-11-28T00:36:02.099314",
     "exception": false,
     "start_time": "2020-11-28T00:36:02.020693",
     "status": "completed"
    },
    "tags": []
   },
   "outputs": [],
   "source": [
    "replace_dict = {\n",
    "    'GK': 'Goalkeeper',\n",
    "    'ST': 'Center Forward', \n",
    "    'CF': 'Center Forward',\n",
    "    'LF': 'Left Forward', \n",
    "    'LS': 'Left Forward',\n",
    "    'RF': 'Right Forward', \n",
    "    'RS': 'Right Forward',\n",
    "    'RCM': 'Center Half', \n",
    "    'LCM': 'Center Half', \n",
    "    'LDM': 'Center Half', \n",
    "    'CAM': 'Center Half', \n",
    "    'CDM': 'Center Half', \n",
    "    'RDM': 'Center Half', \n",
    "    'CM': 'Center Half',\n",
    "    'LW': 'Left Half', \n",
    "    'LAM': 'Left Half', \n",
    "    'LM': 'Left Half',\n",
    "    'RM': 'Right Half', \n",
    "    'RW': 'Right Half', \n",
    "    'RAM': 'Right Half',\n",
    "    'RCB': 'Center Defender',\n",
    "    'CB': 'Center Defender', \n",
    "    'LCB': 'Center Defender',\n",
    "    'LB': 'Left Defender',  \n",
    "    'LWB': 'Left Defender',\n",
    "    'RB': 'Right Defender', \n",
    "    'RWB': 'Right Defender'\n",
    "}\n",
    "\n",
    "df['Position'] = df['Position'].replace(replace_dict)"
   ]
  },
  {
   "cell_type": "code",
   "execution_count": 22,
   "metadata": {
    "execution": {
     "iopub.execute_input": "2020-11-28T00:36:02.153590Z",
     "iopub.status.busy": "2020-11-28T00:36:02.152636Z",
     "iopub.status.idle": "2020-11-28T00:36:02.158622Z",
     "shell.execute_reply": "2020-11-28T00:36:02.157996Z"
    },
    "papermill": {
     "duration": 0.036056,
     "end_time": "2020-11-28T00:36:02.158759",
     "exception": false,
     "start_time": "2020-11-28T00:36:02.122703",
     "status": "completed"
    },
    "tags": []
   },
   "outputs": [
    {
     "data": {
      "text/plain": [
       "['Right Forward',\n",
       " 'Center Forward',\n",
       " 'Left Half',\n",
       " 'Goalkeeper',\n",
       " 'Center Half',\n",
       " 'Left Forward',\n",
       " 'Center Defender',\n",
       " 'Right Half',\n",
       " 'Left Defender',\n",
       " 'Right Defender']"
      ]
     },
     "execution_count": 22,
     "metadata": {},
     "output_type": "execute_result"
    }
   ],
   "source": [
    "df['Position'].unique().tolist()"
   ]
  },
  {
   "cell_type": "code",
   "execution_count": 23,
   "metadata": {
    "execution": {
     "iopub.execute_input": "2020-11-28T00:36:02.221785Z",
     "iopub.status.busy": "2020-11-28T00:36:02.220699Z",
     "iopub.status.idle": "2020-11-28T00:36:02.224584Z",
     "shell.execute_reply": "2020-11-28T00:36:02.223327Z"
    },
    "papermill": {
     "duration": 0.041901,
     "end_time": "2020-11-28T00:36:02.224757",
     "exception": false,
     "start_time": "2020-11-28T00:36:02.182856",
     "status": "completed"
    },
    "tags": []
   },
   "outputs": [],
   "source": [
    "class Player:\n",
    "    def __init__(self, name, age, overall, value, position):\n",
    "        self.name = name\n",
    "        self.age = age\n",
    "        self.overall = overall\n",
    "        self.value = value\n",
    "        self.position = position"
   ]
  },
  {
   "cell_type": "markdown",
   "metadata": {
    "papermill": {
     "duration": 0.025794,
     "end_time": "2020-11-28T00:36:02.276354",
     "exception": false,
     "start_time": "2020-11-28T00:36:02.250560",
     "status": "completed"
    },
    "tags": []
   },
   "source": [
    "To generate individual we will select 2 unique random players for every position. Only for position Central Defender we will select 4 players, because we need 2 of them on the field at the same time."
   ]
  },
  {
   "cell_type": "code",
   "execution_count": 24,
   "metadata": {
    "execution": {
     "iopub.execute_input": "2020-11-28T00:36:02.342701Z",
     "iopub.status.busy": "2020-11-28T00:36:02.341621Z",
     "iopub.status.idle": "2020-11-28T00:36:02.345595Z",
     "shell.execute_reply": "2020-11-28T00:36:02.344603Z"
    },
    "papermill": {
     "duration": 0.040607,
     "end_time": "2020-11-28T00:36:02.345767",
     "exception": false,
     "start_time": "2020-11-28T00:36:02.305160",
     "status": "completed"
    },
    "tags": []
   },
   "outputs": [],
   "source": [
    "def generate_player(player_df, genes, use_best=False):\n",
    "    gen_df = player_df.sort_values(['Overall'], ascending=False)\n",
    "    if use_best:\n",
    "        player = 0\n",
    "    else:\n",
    "        player = random.randint(0, len(gen_df)-1)\n",
    "    player_item = Player(\n",
    "        gen_df.iloc[player]['Name'], \n",
    "        gen_df.iloc[player]['Age'],\n",
    "        gen_df.iloc[player]['Overall'],\n",
    "        gen_df.iloc[player]['Value'],\n",
    "        gen_df.iloc[player]['Position']\n",
    "    )\n",
    "    \n",
    "    return player_item"
   ]
  },
  {
   "cell_type": "code",
   "execution_count": 25,
   "metadata": {
    "execution": {
     "iopub.execute_input": "2020-11-28T00:36:02.421182Z",
     "iopub.status.busy": "2020-11-28T00:36:02.420021Z",
     "iopub.status.idle": "2020-11-28T00:36:02.423581Z",
     "shell.execute_reply": "2020-11-28T00:36:02.422573Z"
    },
    "papermill": {
     "duration": 0.045631,
     "end_time": "2020-11-28T00:36:02.423761",
     "exception": false,
     "start_time": "2020-11-28T00:36:02.378130",
     "status": "completed"
    },
    "tags": []
   },
   "outputs": [],
   "source": [
    "def create_individual(football_df):\n",
    "    genes = list()\n",
    "    positions = [\n",
    "        'Goalkeeper', 'Left Defender', 'Right Defender', \n",
    "        'Center Defender', 'Left Half', 'Right Half', \n",
    "        'Center Half', 'Left Forward', 'Right Forward', 'Center Forward'\n",
    "    ] \n",
    "    \n",
    "    for pos in positions:\n",
    "        player_df = football_df[football_df['Position'] == pos]\n",
    "        for i in range(2):\n",
    "            player_item = generate_player(player_df, genes)\n",
    "            genes.append(player_item)\n",
    "        if pos == 'Center Defender':\n",
    "            for i in range(2):\n",
    "                player_item = generate_player(player_df, genes)\n",
    "                genes.append(player_item)\n",
    "\n",
    "    return genes"
   ]
  },
  {
   "cell_type": "markdown",
   "metadata": {
    "papermill": {
     "duration": 0.024468,
     "end_time": "2020-11-28T00:36:02.478135",
     "exception": false,
     "start_time": "2020-11-28T00:36:02.453667",
     "status": "completed"
    },
    "tags": []
   },
   "source": [
    "Our fitness function is a total power of a team (sum of Overall) minus amount of money that we spent over our limits and minus number of years * 10 over our limit (average age)."
   ]
  },
  {
   "cell_type": "code",
   "execution_count": 26,
   "metadata": {
    "execution": {
     "iopub.execute_input": "2020-11-28T00:36:02.549702Z",
     "iopub.status.busy": "2020-11-28T00:36:02.548678Z",
     "iopub.status.idle": "2020-11-28T00:36:02.552573Z",
     "shell.execute_reply": "2020-11-28T00:36:02.551739Z"
    },
    "papermill": {
     "duration": 0.042987,
     "end_time": "2020-11-28T00:36:02.552731",
     "exception": false,
     "start_time": "2020-11-28T00:36:02.509744",
     "status": "completed"
    },
    "tags": []
   },
   "outputs": [],
   "source": [
    "def fitness(max_money, avg_age, individual):\n",
    "    score = cost = age = 0\n",
    "    for player in individual:\n",
    "        score += player.overall\n",
    "        cost += player.value\n",
    "        age += player.age\n",
    "\n",
    "    score += min(0, max_money-cost)\n",
    "    age_diff = (avg_age - age / 22) * 10\n",
    "    score += min(0, age_diff)\n",
    "    \n",
    "    if len(list(set([it.name for it in individual]))) != 22:\n",
    "        score -= 1000000\n",
    "        \n",
    "    return score"
   ]
  },
  {
   "cell_type": "markdown",
   "metadata": {
    "papermill": {
     "duration": 0.024435,
     "end_time": "2020-11-28T00:36:02.606121",
     "exception": false,
     "start_time": "2020-11-28T00:36:02.581686",
     "status": "completed"
    },
    "tags": []
   },
   "source": [
    "To mutate individual we just select new player for current position if random value is less than mutation rate."
   ]
  },
  {
   "cell_type": "code",
   "execution_count": 27,
   "metadata": {
    "execution": {
     "iopub.execute_input": "2020-11-28T00:36:02.665943Z",
     "iopub.status.busy": "2020-11-28T00:36:02.664927Z",
     "iopub.status.idle": "2020-11-28T00:36:02.668796Z",
     "shell.execute_reply": "2020-11-28T00:36:02.667943Z"
    },
    "papermill": {
     "duration": 0.038237,
     "end_time": "2020-11-28T00:36:02.668954",
     "exception": false,
     "start_time": "2020-11-28T00:36:02.630717",
     "status": "completed"
    },
    "tags": []
   },
   "outputs": [],
   "source": [
    "def mutate(individual, mutation_rate, mutation_best_rate, footbal_df):\n",
    "    new = list()\n",
    "    for gene in individual:\n",
    "        player_df = footbal_df[footbal_df['Position'] == gene.position]\n",
    "        if mutation_best_rate > random.random():\n",
    "            player_item = generate_player(player_df, individual, use_best=True)\n",
    "            new.append(player_item)\n",
    "            continue\n",
    "        if mutation_rate > random.random():\n",
    "            player_item = generate_player(player_df, individual)\n",
    "            new.append(player_item)\n",
    "        else:\n",
    "            player_item = generate_player(player_df, individual)\n",
    "            new.append(player_item)\n",
    "    return new"
   ]
  },
  {
   "cell_type": "markdown",
   "metadata": {
    "papermill": {
     "duration": 0.024839,
     "end_time": "2020-11-28T00:36:02.721562",
     "exception": false,
     "start_time": "2020-11-28T00:36:02.696723",
     "status": "completed"
    },
    "tags": []
   },
   "source": [
    "Let's define constants"
   ]
  },
  {
   "cell_type": "code",
   "execution_count": 28,
   "metadata": {
    "execution": {
     "iopub.execute_input": "2020-11-28T00:36:02.783025Z",
     "iopub.status.busy": "2020-11-28T00:36:02.782138Z",
     "iopub.status.idle": "2020-11-28T00:36:02.785899Z",
     "shell.execute_reply": "2020-11-28T00:36:02.785269Z"
    },
    "papermill": {
     "duration": 0.038589,
     "end_time": "2020-11-28T00:36:02.786028",
     "exception": false,
     "start_time": "2020-11-28T00:36:02.747439",
     "status": "completed"
    },
    "tags": []
   },
   "outputs": [],
   "source": [
    "MAX_MONEY = 1200000000\n",
    "AVG_AGE = 25\n",
    "EPOCHS = 800\n",
    "CHILDREN = 25\n",
    "MUTATION_RATE = 0.15\n",
    "MUTATION_BEST_RATE = 0.1\n",
    "MUTATION_CHANGE_OVER_EPOCHS = 120\n",
    "MUTATION_DECREASE = 0.015\n",
    "INCREASE_IF_NO_IMPROVES = 80\n",
    "MUTATION_INCREASE = 0.0075\n",
    "CHILDREN_INCREASE = 2"
   ]
  },
  {
   "cell_type": "markdown",
   "metadata": {
    "papermill": {
     "duration": 0.02478,
     "end_time": "2020-11-28T00:36:02.836505",
     "exception": false,
     "start_time": "2020-11-28T00:36:02.811725",
     "status": "completed"
    },
    "tags": []
   },
   "source": [
    "Now we are going to run our genetic algorithm. On every epoch we create N children from individual and select only 1 best for next epochs."
   ]
  },
  {
   "cell_type": "code",
   "execution_count": 12,
   "metadata": {
    "execution": {
     "iopub.execute_input": "2020-11-28T00:36:02.902767Z",
     "iopub.status.busy": "2020-11-28T00:36:02.901630Z",
     "iopub.status.idle": "2020-11-28T01:29:22.412598Z",
     "shell.execute_reply": "2020-11-28T01:29:22.411893Z"
    },
    "papermill": {
     "duration": 3199.551207,
     "end_time": "2020-11-28T01:29:22.412754",
     "exception": false,
     "start_time": "2020-11-28T00:36:02.861547",
     "status": "completed"
    },
    "tags": []
   },
   "outputs": [
    {
     "name": "stdout",
     "output_type": "stream",
     "text": [
      "Epoch:  0 1447.8181818181818\n",
      "Epoch:  20 1614.3636363636363\n",
      "Epoch:  40 1644.2727272727273\n",
      "Epoch:  60 1644.2727272727273\n",
      "Epoch:  80 1644.2727272727273\n",
      "Mutation rate increased to:  0.1575\n",
      "Epoch:  100 1644.2727272727273\n",
      "Epoch:  120 1644.2727272727273\n",
      "Mutation rate decreased to:  0.14250000000000002\n",
      "Epoch:  140 1644.2727272727273\n",
      "Epoch:  160 1644.2727272727273\n",
      "Mutation rate increased to:  0.15000000000000002\n",
      "Epoch:  180 1644.2727272727273\n",
      "Epoch:  200 1653\n",
      "Epoch:  220 1653\n",
      "Epoch:  240 1653\n",
      "Mutation rate decreased to:  0.135\n",
      "Mutation rate increased to:  0.14250000000000002\n",
      "Epoch:  260 1662.909090909091\n",
      "Epoch:  280 1662.909090909091\n",
      "Epoch:  300 1662.909090909091\n",
      "Epoch:  320 1663.1818181818182\n",
      "Mutation rate increased to:  0.15000000000000002\n",
      "Epoch:  340 1663.1818181818182\n",
      "Epoch:  360 1663.1818181818182\n",
      "Mutation rate decreased to:  0.135\n",
      "Epoch:  380 1663.1818181818182\n",
      "Epoch:  400 1663.1818181818182\n",
      "Mutation rate increased to:  0.14250000000000002\n",
      "Epoch:  420 1663.1818181818182\n",
      "Epoch:  440 1663.1818181818182\n",
      "Epoch:  460 1663.1818181818182\n",
      "Epoch:  480 1663.1818181818182\n",
      "Mutation rate decreased to:  0.1275\n",
      "Mutation rate increased to:  0.135\n",
      "Epoch:  500 1663.1818181818182\n",
      "Epoch:  520 1663.1818181818182\n",
      "Epoch:  540 1663.1818181818182\n",
      "Epoch:  560 1663.1818181818182\n",
      "Mutation rate increased to:  0.14250000000000002\n",
      "Epoch:  580 1663.1818181818182\n",
      "Epoch:  600 1663.1818181818182\n",
      "Mutation rate decreased to:  0.1275\n",
      "Epoch:  620 1663.1818181818182\n",
      "Epoch:  640 1663.1818181818182\n",
      "Mutation rate increased to:  0.135\n",
      "Epoch:  660 1663.1818181818182\n",
      "Epoch:  680 1663.1818181818182\n",
      "Epoch:  700 1663.2727272727273\n",
      "Epoch:  720 1663.2727272727273\n",
      "Mutation rate decreased to:  0.12000000000000001\n",
      "Mutation rate increased to:  0.1275\n",
      "Epoch:  740 1663.2727272727273\n",
      "Epoch:  760 1663.2727272727273\n",
      "Epoch:  780 1663.2727272727273\n"
     ]
    }
   ],
   "source": [
    "ind = create_individual(df)\n",
    "stable_score = 0\n",
    "best_score = fitness(MAX_MONEY, AVG_AGE, ind)\n",
    "best_ind = ind\n",
    "for i in range(EPOCHS):\n",
    "    improve_flag = False\n",
    "    if stable_score == INCREASE_IF_NO_IMPROVES:\n",
    "        stable_score = 0\n",
    "        print('Mutation rate increased to: ', MUTATION_RATE+MUTATION_INCREASE)\n",
    "        MUTATION_RATE += MUTATION_INCREASE\n",
    "        CHILDREN += CHILDREN_INCREASE\n",
    "    if i % 20 == 0:\n",
    "        print('Epoch: ', i, best_score)\n",
    "    if i % MUTATION_CHANGE_OVER_EPOCHS == 0 and i != 0:\n",
    "        print('Mutation rate decreased to: ', MUTATION_RATE-MUTATION_DECREASE)\n",
    "        MUTATION_RATE -= MUTATION_DECREASE\n",
    "    for i in range(CHILDREN):\n",
    "        child = mutate(ind, MUTATION_RATE, MUTATION_BEST_RATE, df)\n",
    "        child_score = fitness(MAX_MONEY, AVG_AGE, child)\n",
    "        if child_score >= best_score:\n",
    "            best_score = child_score\n",
    "            best_ind = child\n",
    "            improve_flag=True\n",
    "            \n",
    "    if improve_flag == False:\n",
    "        stable_score += 1"
   ]
  },
  {
   "cell_type": "markdown",
   "metadata": {
    "papermill": {
     "duration": 0.044436,
     "end_time": "2020-11-28T01:29:22.504111",
     "exception": false,
     "start_time": "2020-11-28T01:29:22.459675",
     "status": "completed"
    },
    "tags": []
   },
   "source": [
    "Finally - it is our best team."
   ]
  },
  {
   "cell_type": "code",
   "execution_count": 13,
   "metadata": {
    "execution": {
     "iopub.execute_input": "2020-11-28T01:29:22.602250Z",
     "iopub.status.busy": "2020-11-28T01:29:22.601112Z",
     "iopub.status.idle": "2020-11-28T01:29:22.608104Z",
     "shell.execute_reply": "2020-11-28T01:29:22.607158Z"
    },
    "papermill": {
     "duration": 0.059144,
     "end_time": "2020-11-28T01:29:22.608288",
     "exception": false,
     "start_time": "2020-11-28T01:29:22.549144",
     "status": "completed"
    },
    "tags": []
   },
   "outputs": [
    {
     "name": "stdout",
     "output_type": "stream",
     "text": [
      "De Gea 91\n",
      "E. Oelschlägel 64\n",
      "Marcelo 88\n",
      "A. Skúlason 68\n",
      "E. Hysaj 81\n",
      "Li Fang 53\n",
      "K. Rekik 79\n",
      "Sergio Ramos 91\n",
      "Carlos Gutiérrez 70\n",
      "B. Vidal 70\n",
      "Neymar Jr 92\n",
      "J. Izquierdo 77\n",
      "K. Mbappé 88\n",
      "A. Sow 55\n",
      "R. Meléndez 64\n",
      "V. Koziello 76\n",
      "O. Kamara 75\n",
      "B. Gueye 66\n",
      "Roger 79\n",
      "A. La Gumina 68\n",
      "Djaniny 77\n",
      "Cristiano Ronaldo 94\n"
     ]
    }
   ],
   "source": [
    "for player in best_ind:\n",
    "    print(player.name, player.overall)"
   ]
  },
  {
   "cell_type": "code",
   "execution_count": 14,
   "metadata": {
    "_kg_hide-input": true,
    "execution": {
     "iopub.execute_input": "2020-11-28T01:29:22.713166Z",
     "iopub.status.busy": "2020-11-28T01:29:22.712270Z",
     "iopub.status.idle": "2020-11-28T01:29:22.742619Z",
     "shell.execute_reply": "2020-11-28T01:29:22.741764Z"
    },
    "papermill": {
     "duration": 0.085429,
     "end_time": "2020-11-28T01:29:22.742757",
     "exception": false,
     "start_time": "2020-11-28T01:29:22.657328",
     "status": "completed"
    },
    "tags": []
   },
   "outputs": [],
   "source": [
    "def draw_pitch(pitch, line, orientation,view):\n",
    "    \n",
    "    orientation = orientation\n",
    "    view = view\n",
    "    line = line\n",
    "    pitch = pitch\n",
    "    \n",
    "    if view.lower().startswith(\"h\"):\n",
    "        fig,ax = plt.subplots(figsize=(20.8, 13.6))\n",
    "        plt.ylim(98, 210)\n",
    "        plt.xlim(-2, 138)\n",
    "    else:\n",
    "        fig,ax = plt.subplots(figsize=(13.6, 20.8))\n",
    "        plt.ylim(-2, 210)\n",
    "        plt.xlim(-2, 138)\n",
    "    ax.axis('off')\n",
    "\n",
    "    lx1 = [0, 0, 136, 136, 0]\n",
    "    ly1 = [0, 208, 208, 0, 0]\n",
    "\n",
    "    plt.plot(lx1,ly1,color=line,zorder=5)\n",
    "\n",
    "    lx2 = [27.68, 27.68, 108.32, 108.32] \n",
    "    ly2 = [208, 175, 175, 208]\n",
    "    plt.plot(lx2, ly2, color=line, zorder=5)\n",
    "\n",
    "    lx3 = [27.68, 27.68, 108.32, 108.32] \n",
    "    ly3 = [0, 33, 33, 0]\n",
    "    plt.plot(lx3,ly3,color=line,zorder=5)\n",
    "\n",
    "    lx4 = [60.68, 60.68, 75.32, 75.32]\n",
    "    ly4 = [208, 208.4, 208.4, 208]\n",
    "    plt.plot(lx4,ly4,color=line,zorder=5)\n",
    "\n",
    "    lx5 = [60.68,60.68,75.32,75.32]\n",
    "    ly5 = [0,-0.4,-0.4,0]\n",
    "    plt.plot(lx5,ly5,color=line,zorder=5)\n",
    "\n",
    "    lx6 = [49.68,49.68,86.32,86.32]\n",
    "    ly6 = [208,199,199,208]\n",
    "    plt.plot(lx6,ly6,color=line,zorder=5)\n",
    "\n",
    "    lx7 = [49.68,49.68,86.32,86.32]\n",
    "    ly7 = [0,9,9,0]\n",
    "    plt.plot(lx7,ly7,color=line,zorder=5)\n",
    "\n",
    "    lx8 = [0,136] \n",
    "    ly8 = [104,104]\n",
    "    plt.plot(lx8,ly8,color=line,zorder=5)\n",
    "\n",
    "    plt.scatter(68,186,color=line,zorder=5)\n",
    "    plt.scatter(68,22,color=line,zorder=5)\n",
    "    plt.scatter(68,104,color=line,zorder=5)\n",
    "\n",
    "    circle1 = plt.Circle((68,187), 18.30,ls='solid',lw=3,color=line, fill=False, zorder=1,alpha=1)\n",
    "    circle2 = plt.Circle((68,21), 18.30,ls='solid',lw=3,color=line, fill=False, zorder=1,alpha=1)\n",
    "    circle3 = plt.Circle((68,104), 18.30,ls='solid',lw=3,color=line, fill=False, zorder=2,alpha=1)\n",
    "\n",
    "    rec1 = plt.Rectangle((40, 175), 60,33,ls='-',color=pitch, zorder=1,alpha=1)\n",
    "    rec2 = plt.Rectangle((40, 0), 60,33,ls='-',color=pitch, zorder=1,alpha=1)\n",
    "    rec3 = plt.Rectangle((-1, -1), 140,212,ls='-',color=pitch, zorder=1,alpha=1)\n",
    "\n",
    "    ax.add_artist(rec3)\n",
    "    ax.add_artist(circle1)\n",
    "    ax.add_artist(circle2)\n",
    "    ax.add_artist(rec1)\n",
    "    ax.add_artist(rec2)\n",
    "    ax.add_artist(circle3)   "
   ]
  },
  {
   "cell_type": "code",
   "execution_count": 15,
   "metadata": {
    "_kg_hide-input": true,
    "execution": {
     "iopub.execute_input": "2020-11-28T01:29:22.844138Z",
     "iopub.status.busy": "2020-11-28T01:29:22.843044Z",
     "iopub.status.idle": "2020-11-28T01:29:22.846914Z",
     "shell.execute_reply": "2020-11-28T01:29:22.846164Z"
    },
    "papermill": {
     "duration": 0.058369,
     "end_time": "2020-11-28T01:29:22.847039",
     "exception": false,
     "start_time": "2020-11-28T01:29:22.788670",
     "status": "completed"
    },
    "tags": []
   },
   "outputs": [],
   "source": [
    "first_team = []\n",
    "second_team = []\n",
    "\n",
    "i = 0\n",
    "while i < len(best_ind):\n",
    "    if best_ind[i].overall >= best_ind[i+1].overall:\n",
    "        first_team.append(best_ind[i])\n",
    "        second_team.append(best_ind[i+1])\n",
    "    else:\n",
    "        first_team.append(best_ind[i+1])\n",
    "        second_team.append(best_ind[i])\n",
    "    i+=2\n",
    "    \n",
    "first_team.reverse()\n",
    "second_team.reverse()"
   ]
  },
  {
   "cell_type": "markdown",
   "metadata": {
    "papermill": {
     "duration": 0.045257,
     "end_time": "2020-11-28T01:29:22.938374",
     "exception": false,
     "start_time": "2020-11-28T01:29:22.893117",
     "status": "completed"
    },
    "tags": []
   },
   "source": [
    "Our first team"
   ]
  },
  {
   "cell_type": "code",
   "execution_count": 16,
   "metadata": {
    "_kg_hide-input": true,
    "execution": {
     "iopub.execute_input": "2020-11-28T01:29:23.045134Z",
     "iopub.status.busy": "2020-11-28T01:29:23.044346Z",
     "iopub.status.idle": "2020-11-28T01:29:23.380039Z",
     "shell.execute_reply": "2020-11-28T01:29:23.379282Z"
    },
    "papermill": {
     "duration": 0.395331,
     "end_time": "2020-11-28T01:29:23.380160",
     "exception": false,
     "start_time": "2020-11-28T01:29:22.984829",
     "status": "completed"
    },
    "tags": []
   },
   "outputs": [
    {
     "data": {
      "image/png": "[encoded data removed]",
      "text/plain": [
       "<Figure size 979.2x1497.6 with 1 Axes>"
      ]
     },
     "metadata": {
      "needs_background": "light"
     },
     "output_type": "display_data"
    }
   ],
   "source": [
    "draw_pitch(\n",
    "    \"#195905\",\n",
    "    \"#faf0e6\",\n",
    "    \"v\",\n",
    "    \"full\"\n",
    ")\n",
    "\n",
    "x = [\n",
    "    68, 28, 108, 68, 28, 108, 40, 90, 20, 112, 68\n",
    "]\n",
    "y = [160, 160, 160, 110, 110, 110, 40, 40, 60, 60, 1]\n",
    "n = [str(item.name) + ', ' + str(item.overall) for item in first_team]\n",
    "\n",
    "for i, type in enumerate(n):\n",
    "    x_c = x[i]\n",
    "    y_c = y[i]\n",
    "    plt.scatter(\n",
    "        x_c, \n",
    "        y_c, \n",
    "        marker='o', \n",
    "        color='red', \n",
    "        edgecolors=\"black\", \n",
    "        zorder=10\n",
    "    )\n",
    "    plt.text(x_c-2.5, y_c+1, type, fontsize=16)\n"
   ]
  },
  {
   "cell_type": "markdown",
   "metadata": {
    "papermill": {
     "duration": 0.047654,
     "end_time": "2020-11-28T01:29:23.477750",
     "exception": false,
     "start_time": "2020-11-28T01:29:23.430096",
     "status": "completed"
    },
    "tags": []
   },
   "source": [
    "Our second team"
   ]
  },
  {
   "cell_type": "code",
   "execution_count": 17,
   "metadata": {
    "_kg_hide-input": true,
    "execution": {
     "iopub.execute_input": "2020-11-28T01:29:23.590685Z",
     "iopub.status.busy": "2020-11-28T01:29:23.584989Z",
     "iopub.status.idle": "2020-11-28T01:29:23.802167Z",
     "shell.execute_reply": "2020-11-28T01:29:23.801335Z"
    },
    "papermill": {
     "duration": 0.275923,
     "end_time": "2020-11-28T01:29:23.802326",
     "exception": false,
     "start_time": "2020-11-28T01:29:23.526403",
     "status": "completed"
    },
    "tags": []
   },
   "outputs": [
    {
     "data": {
      "image/png": "[encoded data removed]",
      "text/plain": [
       "<Figure size 979.2x1497.6 with 1 Axes>"
      ]
     },
     "metadata": {
      "needs_background": "light"
     },
     "output_type": "display_data"
    }
   ],
   "source": [
    "draw_pitch(\n",
    "    \"#195905\",\n",
    "    \"#faf0e6\",\n",
    "    \"v\",\n",
    "    \"full\"\n",
    ")\n",
    "\n",
    "x = [68, 28, 108, 68, 28, 108, 40, 90, 20, 112, 68]\n",
    "y = [160, 160, 160, 110, 110, 110, 40, 40, 60, 60, 1]\n",
    "n = [str(item.name) + ', ' + str(item.overall) for item in second_team]\n",
    "\n",
    "for i, type in enumerate(n):\n",
    "    x_c = x[i]\n",
    "    y_c = y[i]\n",
    "    plt.scatter(\n",
    "        x_c, \n",
    "        y_c, \n",
    "        marker='o', \n",
    "        color='red', \n",
    "        edgecolors=\"black\", \n",
    "        zorder=10\n",
    "    )\n",
    "    \n",
    "    plt.text(\n",
    "        x_c-2.5, \n",
    "        y_c+1, \n",
    "        type, \n",
    "        fontsize=16\n",
    "    )"
   ]
  }
 ],
 "metadata": {
  "kernelspec": {
   "display_name": "Python 3",
   "language": "python",
   "name": "python3"
  },
  "language_info": {
   "codemirror_mode": {
    "name": "ipython",
    "version": 3
   },
   "file_extension": ".py",
   "mimetype": "text/x-python",
   "name": "python",
   "nbconvert_exporter": "python",
   "pygments_lexer": "ipython3",
   "version": "3.7.4"
  },
  "papermill": {
   "duration": 3208.93403,
   "end_time": "2020-11-28T01:29:24.986554",
   "environment_variables": {},
   "exception": null,
   "input_path": "__notebook__.ipynb",
   "output_path": "__notebook__.ipynb",
   "parameters": {},
   "start_time": "2020-11-28T00:35:56.052524",
   "version": "2.1.0"
  }
 },
 "nbformat": 4,
 "nbformat_minor": 4
}
