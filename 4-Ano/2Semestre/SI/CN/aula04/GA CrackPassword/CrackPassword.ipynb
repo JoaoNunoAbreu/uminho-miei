{
 "cells": [
  {
   "cell_type": "markdown",
   "metadata": {},
   "source": [
    "# Crack Password using GA\n",
    "Sample code to find the password of a system using Genetic Algorithms.\n",
    "In this case, the algorithm takes into account: (1) the length of the password; (2) has a defined dictionary of possible chars to search; (3) fitness_function calculates the number of proposed password characters that are correct/incorrect, compared to the true password;\n",
    "\n",
    "Pipeline:\n",
    "- Import necessary packages;\n",
    "- Define GA operators:\n",
    "    - Fitness operator (get_fitness function)\n",
    "    - Since population will be only using 1 chromosome (1 solution proposal), Crossover operator won't be implemented\n",
    "    - Mutation operator (mutate function)\n",
    "- Using the implemented GA algorithm, start with a random password and search for the target password \"PasswordDesconhecida\"\n",
    "    "
   ]
  },
  {
   "cell_type": "code",
   "execution_count": 6,
   "metadata": {},
   "outputs": [],
   "source": [
    "# Import necessary packages\n",
    "import random\n",
    "import datetime"
   ]
  },
  {
   "cell_type": "code",
   "execution_count": 7,
   "metadata": {},
   "outputs": [],
   "source": [
    "# Fitness operator (get_fitness function)\n",
    "def get_fitness(guess):\n",
    "    return sum(1 for expected, actual in zip(target, guess)\n",
    "               if expected == actual)"
   ]
  },
  {
   "cell_type": "code",
   "execution_count": 8,
   "metadata": {},
   "outputs": [],
   "source": [
    "# Function to display password guess of the GA algorithm, its fitness value and the process time\n",
    "def display(guess):\n",
    "    timeDiff = datetime.datetime.now() - startTime\n",
    "    fitness = get_fitness(guess)\n",
    "    print(\"{0}\\t{1}\\t{2}\".format(guess, fitness, str(timeDiff)))"
   ]
  },
  {
   "cell_type": "code",
   "execution_count": 9,
   "metadata": {},
   "outputs": [],
   "source": [
    "# Generate parent based on a dictionary and length of target password\n",
    "def generate_parent(length):\n",
    "    genes = []\n",
    "    while len(genes) < length:\n",
    "        sampleSize = min(length - len(genes), len(geneSet))\n",
    "        genes.extend(random.sample(geneSet, sampleSize))\n",
    "    return ''.join(genes)"
   ]
  },
  {
   "cell_type": "code",
   "execution_count": 10,
   "metadata": {},
   "outputs": [],
   "source": [
    "# Mutation operator (mutate function)\n",
    "def mutate(parent):\n",
    "    index = random.randrange(0, len(parent))\n",
    "    childGenes = list(parent)\n",
    "    newGene, alternate = random.sample(geneSet, 2)\n",
    "    childGenes[index] = alternate \\\n",
    "        if newGene == childGenes[index] \\\n",
    "        else newGene\n",
    "    return ''.join(childGenes)"
   ]
  },
  {
   "cell_type": "code",
   "execution_count": 6,
   "metadata": {},
   "outputs": [
    {
     "name": "stdout",
     "output_type": "stream",
     "text": [
      "ZyfjBsmXTaWqlNO!pARY\t0\t0:00:00\n",
      "ZyfjBomXTaWqlNO!pARY\t1\t0:00:00.002000\n",
      "ZysjBomXTaWqlNO!pARY\t2\t0:00:00.002000\n",
      "ZysjBomXTaWqlNO!piRY\t3\t0:00:00.002000\n",
      "ZysjwomXTaWqlNO!piRY\t4\t0:00:00.002999\n",
      "PysjwomXTaWqlNO!piRY\t5\t0:00:00.002999\n",
      "PysjwomXTeWqlNO!piRY\t6\t0:00:00.003999\n",
      "PysswomXTeWqlNO!piRY\t7\t0:00:00.005998\n",
      "PysswomXTesqlNO!piRY\t8\t0:00:00.008997\n",
      "PysswomXDesqlNO!piRY\t9\t0:00:00.008997\n",
      "PysswomXDesqlNh!piRY\t10\t0:00:00.008997\n",
      "PysswomXDesqlNhepiRY\t11\t0:00:00.010998\n",
      "PasswomXDesqlNhepiRY\t12\t0:00:00.012999\n",
      "PasswomdDesqlNhepiRY\t13\t0:00:00.013997\n",
      "PasswomdDesclNhepiRY\t14\t0:00:00.015995\n",
      "PasswomdDescoNhepiRY\t15\t0:00:00.015995\n",
      "PasswordDescoNhepiRY\t16\t0:00:00.017994\n",
      "PasswordDescoNhepidY\t17\t0:00:00.018994\n",
      "PasswordDescoNhecidY\t18\t0:00:00.021993\n",
      "PasswordDesconhecidY\t19\t0:00:00.033260\n",
      "PasswordDesconhecida\t20\t0:00:00.041256\n"
     ]
    }
   ],
   "source": [
    "# Start with a random password and search for the target password \"PasswordDesconhecida\"\n",
    "random.seed()\n",
    "geneSet = \" abcdefghijklmnopqrstuvwxyzABCDEFGHIJKLMNOPQRSTUVWXYZ!.\"\n",
    "target = \"PasswordDesconhecida\"\n",
    "startTime = datetime.datetime.now()\n",
    "bestParent = generate_parent(len(target))\n",
    "bestFitness = get_fitness(bestParent)\n",
    "display(bestParent)\n",
    "while True:\n",
    "    child = mutate(bestParent)\n",
    "    childFitness = get_fitness(child)\n",
    "\n",
    "    if bestFitness >= childFitness:\n",
    "        continue\n",
    "    display(child)\n",
    "    if childFitness >= len(bestParent):\n",
    "        break\n",
    "    bestFitness = childFitness\n",
    "    bestParent = child"
   ]
  }
 ],
 "metadata": {
  "kernelspec": {
   "name": "python3612jvsc74a57bd07015df081b5cc04907c723287de725c66faee84ca4f93794d5d8dfff54886e15",
   "display_name": "Python 3.6.12 64-bit ('myenv': conda)"
  },
  "language_info": {
   "codemirror_mode": {
    "name": "ipython",
    "version": 3
   },
   "file_extension": ".py",
   "mimetype": "text/x-python",
   "name": "python",
   "nbconvert_exporter": "python",
   "pygments_lexer": "ipython3",
   "version": "3.6.12"
  }
 },
 "nbformat": 4,
 "nbformat_minor": 2
}